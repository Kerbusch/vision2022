{
 "cells": [
  {
   "cell_type": "code",
   "execution_count": 3,
   "metadata": {
    "collapsed": true
   },
   "outputs": [],
   "source": [
    "import tensorflow as tf\n",
    "from tensorflow.python.keras.models import Sequential\n",
    "from tensorflow.python.keras.layers import Conv2D, MaxPool2D, Dense, Flatten, Dropout\n",
    "from tensorflow.python.keras.utils.np_utils import to_categorical\n",
    "import tensorflow_datasets as tfds\n",
    "\n",
    "import matplotlib.pyplot as plt\n",
    "\n",
    "import pandas as pd\n",
    "import numpy as np"
   ]
  },
  {
   "cell_type": "code",
   "execution_count": 24,
   "outputs": [
    {
     "name": "stdout",
     "output_type": "stream",
     "text": [
      "[ True  True  True ...  True  True  True]\n"
     ]
    }
   ],
   "source": [
    "digits_train = pd.read_csv(\"data/train.csv\")\n",
    "\n",
    "\n",
    "#input data for awnsering opdracht\n",
    "digits_test = pd.read_csv(\"data/test.csv\")\n",
    "test_data_in = digits_test.to_numpy()\n",
    "test_data = np.reshape(test_data_in, (test_data_in.shape[0], 28, 28))\n",
    "test_data = np.expand_dims(test_data, axis=3)\n",
    "\n",
    "#split traindata for train and validation data and labels\n",
    "msk = np.random.rand(len(digits_train)) < 0.8 # maak een random mask voor het splitsen tussen train data en verification data.\n",
    "#msk is een bool list die random zijn.\n",
    "train = digits_train[msk]\n",
    "val = digits_train[~msk]\n",
    "\n",
    "#to numpy\n",
    "train_data_in = train.to_numpy()\n",
    "val_data_in = val.to_numpy()\n",
    "\n",
    "\n",
    "# get labels\n",
    "train_labels = train_data_in[:, 0]  # get first colom from the training data\n",
    "val_labels = val_data_in[:, 0]  # get first colom from the training data\n",
    "train_data_without_label = train_data_in[:, 1:]  # remove first colom (labels) from the training data\n",
    "val_data_without_label = val_data_in[:, 1:]  # remove first colom (labels) from the training data\n",
    "\n",
    "\n",
    "# make a 3d array (size, 28, 28)\n",
    "train_data = np.reshape(train_data_without_label, (train_data_without_label.shape[0], 28, 28))\n",
    "val_data = np.reshape(val_data_without_label, (val_data_without_label.shape[0], 28, 28))\n",
    "\n",
    "# make proper dimensions\n",
    "train_data = np.expand_dims(train_data, axis=3)\n",
    "#test_data = np.expand_dims(test_data, axis=3)\n",
    "val_data = np.expand_dims(val_data, axis=3)\n",
    "\n",
    "#print(train_labels.shape)\n",
    "#print(train_data.shape)\n",
    "#print(val_labels.shape)\n",
    "#print(val_data.shape)\n",
    "#print(test_data.shape)"
   ],
   "metadata": {
    "collapsed": false,
    "pycharm": {
     "name": "#%%\n"
    }
   }
  },
  {
   "cell_type": "code",
   "execution_count": 55,
   "outputs": [],
   "source": [
    "# variables for model\n",
    "num_filters = 2\n",
    "filter_size = (3, 3)\n",
    "pool_size = (2, 2) # Deze pool_size is klein omdat de dataset klein (28x28) is. wanneer deze hoger is zullen er meer fouten in komen. (bijvoorbeeld bij een open 0 en een 6)\n",
    "\n",
    "model = Sequential([])\n",
    "\n",
    "model.add(Conv2D(2, (3, 3), padding='same', activation='relu', input_shape=train_data.shape[1:]))\n",
    "model.add(Conv2D(4, (3, 3), padding='same', activation='relu'))\n",
    "model.add(MaxPool2D(pool_size=pool_size))\n",
    "model.add(Flatten())\n",
    "model.add(Dense(10, activation='softmax'))\n",
    "\n",
    "model.compile('adam', loss='sparse_categorical_crossentropy', metrics=['accuracy'])"
   ],
   "metadata": {
    "collapsed": false,
    "pycharm": {
     "name": "#%%\n"
    }
   }
  },
  {
   "cell_type": "markdown",
   "source": [
    "Model training:"
   ],
   "metadata": {
    "collapsed": false
   }
  },
  {
   "cell_type": "code",
   "execution_count": 56,
   "outputs": [
    {
     "name": "stdout",
     "output_type": "stream",
     "text": [
      "Epoch 1/16\n",
      "1052/1052 [==============================] - 4s 3ms/step - loss: 2.1510 - accuracy: 0.8528 - val_loss: 0.3883 - val_accuracy: 0.9203\n",
      "Epoch 2/16\n",
      "1052/1052 [==============================] - 3s 3ms/step - loss: 0.2390 - accuracy: 0.9392 - val_loss: 0.2389 - val_accuracy: 0.9389\n",
      "Epoch 3/16\n",
      "1052/1052 [==============================] - 3s 3ms/step - loss: 0.1486 - accuracy: 0.9560 - val_loss: 0.1872 - val_accuracy: 0.9482\n",
      "Epoch 4/16\n",
      "1052/1052 [==============================] - 4s 3ms/step - loss: 0.1149 - accuracy: 0.9642 - val_loss: 0.1672 - val_accuracy: 0.9528\n",
      "Epoch 5/16\n",
      "1052/1052 [==============================] - 3s 3ms/step - loss: 0.1003 - accuracy: 0.9681 - val_loss: 0.1540 - val_accuracy: 0.9541\n",
      "Epoch 6/16\n",
      "1052/1052 [==============================] - 4s 3ms/step - loss: 0.0909 - accuracy: 0.9705 - val_loss: 0.1613 - val_accuracy: 0.9566\n",
      "Epoch 7/16\n",
      "1052/1052 [==============================] - 4s 3ms/step - loss: 0.0818 - accuracy: 0.9736 - val_loss: 0.1477 - val_accuracy: 0.9583\n",
      "Epoch 8/16\n",
      "1052/1052 [==============================] - 3s 3ms/step - loss: 0.0754 - accuracy: 0.9756 - val_loss: 0.1354 - val_accuracy: 0.9621\n",
      "Epoch 9/16\n",
      "1052/1052 [==============================] - 3s 3ms/step - loss: 0.0684 - accuracy: 0.9773 - val_loss: 0.1476 - val_accuracy: 0.9614\n",
      "Epoch 10/16\n",
      "1052/1052 [==============================] - 4s 3ms/step - loss: 0.0600 - accuracy: 0.9807 - val_loss: 0.1407 - val_accuracy: 0.9636\n",
      "Epoch 11/16\n",
      "1052/1052 [==============================] - 4s 3ms/step - loss: 0.0578 - accuracy: 0.9807 - val_loss: 0.1585 - val_accuracy: 0.9623\n",
      "Epoch 12/16\n",
      "1052/1052 [==============================] - 3s 3ms/step - loss: 0.0532 - accuracy: 0.9826 - val_loss: 0.1429 - val_accuracy: 0.9625\n",
      "Epoch 13/16\n",
      "1052/1052 [==============================] - 3s 3ms/step - loss: 0.0496 - accuracy: 0.9837 - val_loss: 0.1473 - val_accuracy: 0.9660\n",
      "Epoch 14/16\n",
      "1052/1052 [==============================] - 3s 3ms/step - loss: 0.0468 - accuracy: 0.9845 - val_loss: 0.1676 - val_accuracy: 0.9603\n",
      "Epoch 15/16\n",
      "1052/1052 [==============================] - 3s 3ms/step - loss: 0.0467 - accuracy: 0.9840 - val_loss: 0.1640 - val_accuracy: 0.9630\n",
      "Epoch 16/16\n",
      "1052/1052 [==============================] - 3s 3ms/step - loss: 0.0400 - accuracy: 0.9860 - val_loss: 0.1628 - val_accuracy: 0.9645\n"
     ]
    }
   ],
   "source": [
    "h = model.fit(train_data, train_labels, epochs=16, validation_data=(val_data, val_labels))"
   ],
   "metadata": {
    "collapsed": false,
    "pycharm": {
     "name": "#%%\n"
    }
   }
  },
  {
   "cell_type": "code",
   "execution_count": 57,
   "outputs": [
    {
     "name": "stdout",
     "output_type": "stream",
     "text": [
      "1052/1052 - 2s - loss: 0.0346 - accuracy: 0.9869\n",
      "accuracy = 0.9869261384010315\n"
     ]
    }
   ],
   "source": [
    "test_loss, test_acc = model.evaluate(train_data,  train_labels, verbose=2)\n",
    "print(\"accuracy = {}\".format(test_acc))"
   ],
   "metadata": {
    "collapsed": false,
    "pycharm": {
     "name": "#%%\n"
    }
   }
  },
  {
   "cell_type": "code",
   "execution_count": 53,
   "outputs": [
    {
     "data": {
      "text/plain": "<Figure size 432x288 with 1 Axes>",
      "image/png": "[encoded data removed]"
     },
     "metadata": {
      "needs_background": "light"
     },
     "output_type": "display_data"
    },
    {
     "name": "stdout",
     "output_type": "stream",
     "text": [
      "[[9.9984801e-01 2.9678319e-27 2.4332924e-14 1.6775112e-16 7.7438479e-22\n",
      "  6.2988491e-15 1.5199200e-04 1.4679307e-24 1.1990804e-12 7.5950773e-12]]\n",
      "0\n"
     ]
    }
   ],
   "source": [
    "img = 110\n",
    "\n",
    "# plot test image\n",
    "plt.imshow(test_data[img, :, :, 0])\n",
    "plt.show()\n",
    "\n",
    "#predict test image and print the answer\n",
    "x = np.expand_dims(test_data[img], axis=0)\n",
    "prediction = model.predict(x)\n",
    "print(prediction)\n",
    "print(np.argmax(prediction))"
   ],
   "metadata": {
    "collapsed": false,
    "pycharm": {
     "name": "#%%\n"
    }
   }
  },
  {
   "cell_type": "code",
   "execution_count": 54,
   "outputs": [
    {
     "data": {
      "text/plain": "<Figure size 432x288 with 1 Axes>",
      "image/png": "[encoded data removed]"
     },
     "metadata": {
      "needs_background": "light"
     },
     "output_type": "display_data"
    }
   ],
   "source": [
    "plt.plot(h.history['accuracy'])\n",
    "plt.plot(h.history['val_accuracy'])\n",
    "plt.title('model accuracy')\n",
    "plt.ylabel('accuracy')\n",
    "plt.xlabel('epoch')\n",
    "plt.legend(['train', 'test'], loc='upper left')\n",
    "plt.show()"
   ],
   "metadata": {
    "collapsed": false,
    "pycharm": {
     "name": "#%%\n"
    }
   }
  }
 ],
 "metadata": {
  "kernelspec": {
   "display_name": "Python 3",
   "language": "python",
   "name": "python3"
  },
  "language_info": {
   "codemirror_mode": {
    "name": "ipython",
    "version": 2
   },
   "file_extension": ".py",
   "mimetype": "text/x-python",
   "name": "python",
   "nbconvert_exporter": "python",
   "pygments_lexer": "ipython2",
   "version": "2.7.6"
  }
 },
 "nbformat": 4,
 "nbformat_minor": 0
}