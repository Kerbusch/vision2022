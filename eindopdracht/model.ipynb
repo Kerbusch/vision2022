{
 "cells": [
  {
   "cell_type": "code",
   "execution_count": 3,
   "metadata": {
    "collapsed": true
   },
   "outputs": [],
   "source": [
    "import tensorflow as tf\n",
    "from tensorflow.python.keras.models import Sequential\n",
    "from tensorflow.python.keras.layers import Conv2D, MaxPool2D, Dense, Flatten, Dropout\n",
    "from tensorflow.python.keras.utils.np_utils import to_categorical\n",
    "import tensorflow_datasets as tfds\n",
    "\n",
    "import matplotlib.pyplot as plt\n",
    "\n",
    "import pandas as pd\n",
    "import numpy as np"
   ]
  },
  {
   "cell_type": "code",
   "execution_count": 4,
   "outputs": [],
   "source": [
    "digits_train = pd.read_csv(\"data/train.csv\")\n",
    "\n",
    "\n",
    "#input data for awnsering opdracht\n",
    "digits_test = pd.read_csv(\"data/test.csv\")\n",
    "test_data_in = digits_test.to_numpy()\n",
    "test_data = np.reshape(test_data_in, (test_data_in.shape[0], 28, 28))\n",
    "test_data = np.expand_dims(test_data, axis=3)\n",
    "\n",
    "#split traindata for train and validation data and labels\n",
    "msk = np.random.rand(len(digits_train)) < 0.8 # maak een random mask voor het splitsen tussen train data en verification data.\n",
    "#msk is een bool list die random zijn.\n",
    "train = digits_train[msk]\n",
    "val = digits_train[~msk]\n",
    "\n",
    "#to numpy\n",
    "train_data_in = train.to_numpy()\n",
    "val_data_in = val.to_numpy()\n",
    "\n",
    "\n",
    "# get labels\n",
    "train_labels = train_data_in[:, 0]  # get first colom from the training data\n",
    "val_labels = val_data_in[:, 0]  # get first colom from the training data\n",
    "train_data_without_label = train_data_in[:, 1:]  # remove first colom (labels) from the training data\n",
    "val_data_without_label = val_data_in[:, 1:]  # remove first colom (labels) from the training data\n",
    "\n",
    "\n",
    "# make a 3d array (size, 28, 28)\n",
    "train_data = np.reshape(train_data_without_label, (train_data_without_label.shape[0], 28, 28))\n",
    "val_data = np.reshape(val_data_without_label, (val_data_without_label.shape[0], 28, 28))\n",
    "\n",
    "# make proper dimensions\n",
    "train_data = np.expand_dims(train_data, axis=3)\n",
    "#test_data = np.expand_dims(test_data, axis=3)\n",
    "val_data = np.expand_dims(val_data, axis=3)\n",
    "\n",
    "#print(train_labels.shape)\n",
    "#print(train_data.shape)\n",
    "#print(val_labels.shape)\n",
    "#print(val_data.shape)\n",
    "#print(test_data.shape)"
   ],
   "metadata": {
    "collapsed": false,
    "pycharm": {
     "name": "#%%\n"
    }
   }
  },
  {
   "cell_type": "code",
   "execution_count": 14,
   "outputs": [],
   "source": [
    "# variables for model\n",
    "num_filters = 2\n",
    "filter_size = (3, 3)\n",
    "pool_size = (2, 2) # Deze pool_size is klein omdat de dataset klein (28x28) is. wanneer deze hoger is zullen er meer fouten in komen. (bijvoorbeeld bij een open 0 en een 6)\n",
    "\n",
    "model = Sequential([])\n",
    "\n",
    "model.add(Conv2D(10, (3, 3), padding='same', activation='relu', input_shape=train_data.shape[1:]))\n",
    "model.add(Conv2D(20, (3, 3), padding='same', activation='relu'))\n",
    "model.add(MaxPool2D(pool_size=pool_size))\n",
    "model.add(Flatten())\n",
    "model.add(Dense(10, activation='softmax'))\n",
    "\n",
    "model.compile('adam', loss='sparse_categorical_crossentropy', metrics=['accuracy'])"
   ],
   "metadata": {
    "collapsed": false,
    "pycharm": {
     "name": "#%%\n"
    }
   }
  },
  {
   "cell_type": "markdown",
   "source": [
    "Model training:"
   ],
   "metadata": {
    "collapsed": false
   }
  },
  {
   "cell_type": "code",
   "execution_count": 15,
   "outputs": [
    {
     "name": "stdout",
     "output_type": "stream",
     "text": [
      "Epoch 1/16\n",
      "1050/1050 [==============================] - 5s 4ms/step - loss: 0.5696 - accuracy: 0.9340 - val_loss: 0.1489 - val_accuracy: 0.9595\n",
      "Epoch 2/16\n",
      "1050/1050 [==============================] - 4s 4ms/step - loss: 0.0755 - accuracy: 0.9779 - val_loss: 0.1341 - val_accuracy: 0.9629\n",
      "Epoch 3/16\n",
      "1050/1050 [==============================] - 4s 4ms/step - loss: 0.0531 - accuracy: 0.9843 - val_loss: 0.1040 - val_accuracy: 0.9704\n",
      "Epoch 4/16\n",
      "1050/1050 [==============================] - 4s 4ms/step - loss: 0.0385 - accuracy: 0.9879 - val_loss: 0.1137 - val_accuracy: 0.9743\n",
      "Epoch 5/16\n",
      "1050/1050 [==============================] - 4s 3ms/step - loss: 0.0380 - accuracy: 0.9886 - val_loss: 0.1071 - val_accuracy: 0.9725\n",
      "Epoch 6/16\n",
      "1050/1050 [==============================] - 4s 4ms/step - loss: 0.0321 - accuracy: 0.9901 - val_loss: 0.1358 - val_accuracy: 0.9723\n",
      "Epoch 7/16\n",
      "1050/1050 [==============================] - 4s 4ms/step - loss: 0.0291 - accuracy: 0.9907 - val_loss: 0.1436 - val_accuracy: 0.9751\n",
      "Epoch 8/16\n",
      "1050/1050 [==============================] - 4s 4ms/step - loss: 0.0242 - accuracy: 0.9927 - val_loss: 0.1909 - val_accuracy: 0.9691\n",
      "Epoch 9/16\n",
      "1050/1050 [==============================] - 4s 3ms/step - loss: 0.0242 - accuracy: 0.9925 - val_loss: 0.1609 - val_accuracy: 0.9749\n",
      "Epoch 10/16\n",
      "1050/1050 [==============================] - 4s 4ms/step - loss: 0.0254 - accuracy: 0.9928 - val_loss: 0.1399 - val_accuracy: 0.9762\n",
      "Epoch 11/16\n",
      "1050/1050 [==============================] - 4s 4ms/step - loss: 0.0183 - accuracy: 0.9946 - val_loss: 0.1487 - val_accuracy: 0.9774\n",
      "Epoch 12/16\n",
      "1050/1050 [==============================] - 4s 4ms/step - loss: 0.0174 - accuracy: 0.9949 - val_loss: 0.1486 - val_accuracy: 0.9756\n",
      "Epoch 13/16\n",
      "1050/1050 [==============================] - 4s 4ms/step - loss: 0.0164 - accuracy: 0.9951 - val_loss: 0.1650 - val_accuracy: 0.9778\n",
      "Epoch 14/16\n",
      "1050/1050 [==============================] - 4s 4ms/step - loss: 0.0193 - accuracy: 0.9949 - val_loss: 0.1983 - val_accuracy: 0.9740\n",
      "Epoch 15/16\n",
      "1050/1050 [==============================] - 4s 4ms/step - loss: 0.0168 - accuracy: 0.9956 - val_loss: 0.1860 - val_accuracy: 0.9798\n",
      "Epoch 16/16\n",
      "1050/1050 [==============================] - 4s 4ms/step - loss: 0.0166 - accuracy: 0.9958 - val_loss: 0.2148 - val_accuracy: 0.9779\n"
     ]
    }
   ],
   "source": [
    "h = model.fit(train_data, train_labels, epochs=16, validation_data=(val_data, val_labels))"
   ],
   "metadata": {
    "collapsed": false,
    "pycharm": {
     "name": "#%%\n"
    }
   }
  },
  {
   "cell_type": "code",
   "execution_count": 16,
   "outputs": [
    {
     "name": "stdout",
     "output_type": "stream",
     "text": [
      "1050/1050 - 2s - loss: 0.0111 - accuracy: 0.9968\n",
      "accuracy = 0.9967550039291382\n"
     ]
    }
   ],
   "source": [
    "test_loss, test_acc = model.evaluate(train_data,  train_labels, verbose=2)\n",
    "print(\"accuracy = {}\".format(test_acc))"
   ],
   "metadata": {
    "collapsed": false,
    "pycharm": {
     "name": "#%%\n"
    }
   }
  },
  {
   "cell_type": "code",
   "execution_count": 8,
   "outputs": [
    {
     "data": {
      "text/plain": "<Figure size 432x288 with 1 Axes>",
      "image/png": "[encoded data removed]"
     },
     "metadata": {
      "needs_background": "light"
     },
     "output_type": "display_data"
    },
    {
     "name": "stdout",
     "output_type": "stream",
     "text": [
      "[[9.9982041e-01 6.4533082e-23 1.1602065e-10 3.3764317e-15 1.3751096e-17\n",
      "  7.6373331e-11 1.7862045e-04 8.9709564e-15 3.3750160e-07 6.0939692e-07]]\n",
      "0\n"
     ]
    }
   ],
   "source": [
    "img = 110\n",
    "\n",
    "# plot test image\n",
    "plt.imshow(test_data[img, :, :, 0])\n",
    "plt.show()\n",
    "\n",
    "#predict test image and print the answer\n",
    "x = np.expand_dims(test_data[img], axis=0)\n",
    "prediction = model.predict(x)\n",
    "print(prediction)\n",
    "print(np.argmax(prediction))"
   ],
   "metadata": {
    "collapsed": false,
    "pycharm": {
     "name": "#%%\n"
    }
   }
  },
  {
   "cell_type": "code",
   "execution_count": 9,
   "outputs": [
    {
     "data": {
      "text/plain": "<Figure size 432x288 with 1 Axes>",
      "image/png": "[encoded data removed]"
     },
     "metadata": {
      "needs_background": "light"
     },
     "output_type": "display_data"
    }
   ],
   "source": [
    "plt.plot(h.history['accuracy'])\n",
    "plt.plot(h.history['val_accuracy'])\n",
    "plt.title('model accuracy')\n",
    "plt.ylabel('accuracy')\n",
    "plt.xlabel('epoch')\n",
    "plt.legend(['train', 'test'], loc='upper left')\n",
    "plt.show()"
   ],
   "metadata": {
    "collapsed": false,
    "pycharm": {
     "name": "#%%\n"
    }
   }
  },
  {
   "cell_type": "markdown",
   "source": [
    "Kaggle challenge test dataset"
   ],
   "metadata": {
    "collapsed": false
   }
  },
  {
   "cell_type": "code",
   "execution_count": 11,
   "outputs": [],
   "source": [
    "#out = list()\n",
    "file = open(\"out.txt\", \"w\")\n",
    "\n",
    "for i in range(test_data.shape[0]):\n",
    "    file.write(\"({},{})\\n\".format(i, np.argmax(model.predict(np.expand_dims(test_data[i], axis=0)))))\n",
    "    #out.append((i, np.argmax(model.predict(np.expand_dims(test_data[i], axis=0)))))\n",
    "\n",
    "file.close()"
   ],
   "metadata": {
    "collapsed": false,
    "pycharm": {
     "name": "#%%\n"
    }
   }
  }
 ],
 "metadata": {
  "kernelspec": {
   "display_name": "Python 3",
   "language": "python",
   "name": "python3"
  },
  "language_info": {
   "codemirror_mode": {
    "name": "ipython",
    "version": 2
   },
   "file_extension": ".py",
   "mimetype": "text/x-python",
   "name": "python",
   "nbconvert_exporter": "python",
   "pygments_lexer": "ipython2",
   "version": "2.7.6"
  }
 },
 "nbformat": 4,
 "nbformat_minor": 0
}