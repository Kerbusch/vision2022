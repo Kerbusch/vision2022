{
 "cells": [
  {
   "cell_type": "code",
   "execution_count": 1,
   "metadata": {
    "collapsed": true
   },
   "outputs": [],
   "source": [
    "import tensorflow as tf\n",
    "from tensorflow.python.keras.models import Sequential\n",
    "from tensorflow.python.keras.layers import Conv2D, MaxPool2D, Dense, Flatten, Dropout\n",
    "from tensorflow.python.keras.utils.np_utils import to_categorical\n",
    "import tensorflow_datasets as tfds\n",
    "\n",
    "import matplotlib.pyplot as plt\n",
    "\n",
    "import pandas as pd\n",
    "import numpy as np"
   ]
  },
  {
   "cell_type": "code",
   "execution_count": 2,
   "outputs": [
    {
     "name": "stdout",
     "output_type": "stream",
     "text": [
      "(33619,)\n",
      "(33619, 28, 28, 1)\n",
      "(8381,)\n",
      "(8381, 28, 28, 1)\n",
      "(28000, 28, 28, 1)\n"
     ]
    }
   ],
   "source": [
    "digits_train = pd.read_csv(\"data/train.csv\")\n",
    "\n",
    "\n",
    "#input data for awnsering opdracht\n",
    "digits_test = pd.read_csv(\"data/test.csv\")\n",
    "test_data_in = digits_test.to_numpy()\n",
    "test_data = np.reshape(test_data_in, (test_data_in.shape[0], 28, 28))\n",
    "test_data = np.expand_dims(test_data, axis=3)\n",
    "\n",
    "#split traindata for train and validation data and labels\n",
    "msk = np.random.rand(len(digits_train)) < 0.8\n",
    "train = digits_train[msk]\n",
    "val = digits_train[~msk]\n",
    "\n",
    "#to numpy\n",
    "train_data_in = train.to_numpy()\n",
    "val_data_in = val.to_numpy()\n",
    "\n",
    "\n",
    "# get labels\n",
    "train_labels = train_data_in[:, 0]  # get first colom from the training data\n",
    "val_labels = val_data_in[:, 0]  # get first colom from the training data\n",
    "train_data_without_label = train_data_in[:, 1:]  # remove first colom (labels) from the training data\n",
    "val_data_without_label = val_data_in[:, 1:]  # remove first colom (labels) from the training data\n",
    "\n",
    "\n",
    "# make a 3d array (size, 28, 28)\n",
    "train_data = np.reshape(train_data_without_label, (train_data_without_label.shape[0], 28, 28))\n",
    "val_data = np.reshape(val_data_without_label, (val_data_without_label.shape[0], 28, 28))\n",
    "\n",
    "# make proper dimensions\n",
    "train_data = np.expand_dims(train_data, axis=3)\n",
    "#test_data = np.expand_dims(test_data, axis=3)\n",
    "val_data = np.expand_dims(val_data, axis=3)\n",
    "\n",
    "print(train_labels.shape)\n",
    "print(train_data.shape)\n",
    "print(val_labels.shape)\n",
    "print(val_data.shape)\n",
    "print(test_data.shape)"
   ],
   "metadata": {
    "collapsed": false,
    "pycharm": {
     "name": "#%%\n"
    }
   }
  },
  {
   "cell_type": "code",
   "execution_count": 3,
   "outputs": [],
   "source": [
    "# variables for model\n",
    "num_filters = 2\n",
    "filter_size = (3, 3)\n",
    "pool_size = (3, 3)\n",
    "\n",
    "model = Sequential([])\n",
    "\n",
    "model.add(Conv2D(num_filters, filter_size, padding='same', activation='relu', input_shape=train_data.shape[1:]))\n",
    "model.add(MaxPool2D(pool_size=pool_size))\n",
    "model.add(Flatten())\n",
    "model.add(Dense(10, activation='softmax'))\n",
    "\n",
    "model.compile('adam', loss='sparse_categorical_crossentropy', metrics=['accuracy'])"
   ],
   "metadata": {
    "collapsed": false,
    "pycharm": {
     "name": "#%%\n"
    }
   }
  },
  {
   "cell_type": "code",
   "execution_count": 4,
   "outputs": [
    {
     "name": "stdout",
     "output_type": "stream",
     "text": [
      "Epoch 1/10\n",
      "1051/1051 [==============================] - 17s 4ms/step - loss: 19.2706 - accuracy: 0.6986 - val_loss: 3.7827 - val_accuracy: 0.7943\n",
      "Epoch 2/10\n",
      "1051/1051 [==============================] - 4s 4ms/step - loss: 1.8281 - accuracy: 0.8261 - val_loss: 0.9713 - val_accuracy: 0.8339\n",
      "Epoch 3/10\n",
      "1051/1051 [==============================] - 4s 4ms/step - loss: 0.5738 - accuracy: 0.8539 - val_loss: 0.4591 - val_accuracy: 0.8610\n",
      "Epoch 4/10\n",
      "1051/1051 [==============================] - 4s 4ms/step - loss: 0.4087 - accuracy: 0.8768 - val_loss: 0.4162 - val_accuracy: 0.8695\n",
      "Epoch 5/10\n",
      "1051/1051 [==============================] - 4s 4ms/step - loss: 0.3755 - accuracy: 0.8860 - val_loss: 0.3878 - val_accuracy: 0.8820\n",
      "Epoch 6/10\n",
      "1051/1051 [==============================] - 4s 4ms/step - loss: 0.3537 - accuracy: 0.8936 - val_loss: 0.3536 - val_accuracy: 0.8908\n",
      "Epoch 7/10\n",
      "1051/1051 [==============================] - 5s 5ms/step - loss: 0.3298 - accuracy: 0.9003 - val_loss: 0.3370 - val_accuracy: 0.8980\n",
      "Epoch 8/10\n",
      "1051/1051 [==============================] - 5s 4ms/step - loss: 0.3135 - accuracy: 0.9058 - val_loss: 0.3039 - val_accuracy: 0.9071\n",
      "Epoch 9/10\n",
      "1051/1051 [==============================] - 4s 4ms/step - loss: 0.2895 - accuracy: 0.9152 - val_loss: 0.2725 - val_accuracy: 0.9179\n",
      "Epoch 10/10\n",
      "1051/1051 [==============================] - 4s 4ms/step - loss: 0.2679 - accuracy: 0.9213 - val_loss: 0.2827 - val_accuracy: 0.9167\n"
     ]
    },
    {
     "data": {
      "text/plain": "<tensorflow.python.keras.callbacks.History at 0x206391dfcd0>"
     },
     "execution_count": 4,
     "metadata": {},
     "output_type": "execute_result"
    }
   ],
   "source": [
    "model.fit(train_data, train_labels, epochs=10, validation_data=(val_data, val_labels))"
   ],
   "metadata": {
    "collapsed": false,
    "pycharm": {
     "name": "#%%\n"
    }
   }
  },
  {
   "cell_type": "code",
   "execution_count": 5,
   "outputs": [
    {
     "name": "stdout",
     "output_type": "stream",
     "text": [
      "1051/1051 - 2s - loss: 0.2553 - accuracy: 0.9239\n",
      "accuracy = 0.9239417910575867\n"
     ]
    }
   ],
   "source": [
    "test_loss, test_acc = model.evaluate(train_data,  train_labels, verbose=2)\n",
    "print(\"accuracy = {}\".format(test_acc))"
   ],
   "metadata": {
    "collapsed": false,
    "pycharm": {
     "name": "#%%\n"
    }
   }
  },
  {
   "cell_type": "code",
   "execution_count": 13,
   "outputs": [
    {
     "data": {
      "text/plain": "<Figure size 432x288 with 1 Axes>",
      "image/png": "[encoded data removed]"
     },
     "metadata": {
      "needs_background": "light"
     },
     "output_type": "display_data"
    },
    {
     "name": "stdout",
     "output_type": "stream",
     "text": [
      "(28, 28, 1)\n",
      "[[5.9087506e-07 7.5357214e-11 1.7350634e-07 3.0959461e-06 9.5507252e-04\n",
      "  2.1798683e-06 4.1052733e-08 9.9580801e-01 1.4148290e-04 3.0893546e-03]]\n",
      "7\n"
     ]
    }
   ],
   "source": [
    "plt.imshow(test_data[5, :, :, 0])\n",
    "plt.show()\n",
    "print(test_data[4].shape)\n",
    "x = np.expand_dims(test_data[5], axis=0)\n",
    "prediction = model.predict(x)\n",
    "print(prediction)\n",
    "print(np.argmax(prediction))"
   ],
   "metadata": {
    "collapsed": false,
    "pycharm": {
     "name": "#%%\n"
    }
   }
  }
 ],
 "metadata": {
  "kernelspec": {
   "display_name": "Python 3",
   "language": "python",
   "name": "python3"
  },
  "language_info": {
   "codemirror_mode": {
    "name": "ipython",
    "version": 2
   },
   "file_extension": ".py",
   "mimetype": "text/x-python",
   "name": "python",
   "nbconvert_exporter": "python",
   "pygments_lexer": "ipython2",
   "version": "2.7.6"
  }
 },
 "nbformat": 4,
 "nbformat_minor": 0
}